{
 "cells": [
  {
   "cell_type": "markdown",
   "metadata": {},
   "source": [
    "# WeatherPy\n",
    "----\n",
    "\n",
    "#### Note\n",
    "* Instructions have been included for each segment. You do not have to follow them exactly, but they are included to help you think through the steps."
   ]
  },
  {
   "cell_type": "code",
   "execution_count": 3,
   "metadata": {
    "scrolled": true
   },
   "outputs": [],
   "source": [
    "# Dependencies and Setup\n",
    "import matplotlib.pyplot as plt\n",
    "import pandas as pd\n",
    "import numpy as np\n",
    "import requests\n",
    "import time\n",
    "from scipy.stats import linregress\n",
    "\n",
    "\n",
    "# Import API key\n",
    "#from api_keys import weather_api_key\n",
    "\n",
    "# Incorporated citipy to determine city based on latitude and longitude\n",
    "from citipy import citipy\n",
    "\n",
    "# Output File (CSV)\n",
    "output_data_file = \"output_data/cities.csv\"\n",
    "\n",
    "# Range of latitudes and longitudes\n",
    "lat_range = (-90, 90)\n",
    "lng_range = (-180, 180)\n",
    "\n",
    "weather_api_key = \"9980438bd8bda63633edffe81fce2d82\""
   ]
  },
  {
   "cell_type": "markdown",
   "metadata": {},
   "source": [
    "## Generate Cities List"
   ]
  },
  {
   "cell_type": "code",
   "execution_count": 4,
   "metadata": {},
   "outputs": [
    {
     "data": {
      "text/plain": [
       "640"
      ]
     },
     "execution_count": 4,
     "metadata": {},
     "output_type": "execute_result"
    }
   ],
   "source": [
    "# List for holding lat_lngs and cities\n",
    "lat_lngs = []\n",
    "cities = []\n",
    "\n",
    "# Create a set of random lat and lng combinations\n",
    "lats = np.random.uniform(lat_range[0], lat_range[1], size=1500)\n",
    "lngs = np.random.uniform(lng_range[0], lng_range[1], size=1500)\n",
    "lat_lngs = zip(lats, lngs)\n",
    "\n",
    "# Identify nearest city for each lat, lng combination\n",
    "for lat_lng in lat_lngs:\n",
    "    city = citipy.nearest_city(lat_lng[0], lat_lng[1]).city_name\n",
    "    \n",
    "    # If the city is unique, then add it to a our cities list\n",
    "    if city not in cities:\n",
    "        cities.append(city)\n",
    "\n",
    "# Print the city count to confirm sufficient count\n",
    "len(cities)"
   ]
  },
  {
   "cell_type": "markdown",
   "metadata": {},
   "source": [
    "### Perform API Calls\n",
    "* Perform a weather check on each city using a series of successive API calls.\n",
    "* Include a print log of each city as it'sbeing processed (with the city number and city name).\n"
   ]
  },
  {
   "cell_type": "code",
   "execution_count": 5,
   "metadata": {},
   "outputs": [
    {
     "data": {
      "text/plain": [
       "{'coord': {'lon': -0.13, 'lat': 51.51},\n",
       " 'weather': [{'id': 804,\n",
       "   'main': 'Clouds',\n",
       "   'description': 'overcast clouds',\n",
       "   'icon': '04d'}],\n",
       " 'base': 'stations',\n",
       " 'main': {'temp': 70.27,\n",
       "  'feels_like': 62.64,\n",
       "  'temp_min': 69.01,\n",
       "  'temp_max': 71.6,\n",
       "  'pressure': 1012,\n",
       "  'humidity': 40},\n",
       " 'visibility': 10000,\n",
       " 'wind': {'speed': 11.41, 'deg': 230},\n",
       " 'clouds': {'all': 100},\n",
       " 'dt': 1595531420,\n",
       " 'sys': {'type': 1,\n",
       "  'id': 1414,\n",
       "  'country': 'GB',\n",
       "  'sunrise': 1595477495,\n",
       "  'sunset': 1595534526},\n",
       " 'timezone': 3600,\n",
       " 'id': 2643743,\n",
       " 'name': 'London',\n",
       " 'cod': 200}"
      ]
     },
     "metadata": {},
     "output_type": "display_data"
    }
   ],
   "source": [
    "#Dependencies\n",
    "import json\n",
    "import requests\n",
    "\n",
    "#URL for GET requests to retrieve data\n",
    "url = \"http://api.openweathermap.org/data/2.5/weather?\"\n",
    "units = \"imperial\"\n",
    "query_url = f\"{url}appid={weather_api_key}&units={units}&q=\"\n",
    "\n",
    "#Print response object\n",
    "response = requests.get(query_url+'London').json()\n",
    "display(response)\n",
    "\n",
    "\n",
    "\n",
    "\n",
    "\n",
    "        "
   ]
  },
  {
   "cell_type": "code",
   "execution_count": 6,
   "metadata": {},
   "outputs": [
    {
     "name": "stdout",
     "output_type": "stream",
     "text": [
      "1 City Name: Atuona\n",
      "2 City Name: Naze\n",
      "3 City Name: Black River\n",
      "4 City Name: Mataura\n",
      "5 City Name: Asilah\n",
      "6 City Name: Kaitangata\n",
      "7 City Name: Vaini\n",
      "8 City Name: Busselton\n",
      "9 City Name: Constitución\n",
      "10 City Name: Avarua\n",
      "11 City Name: Bambous Virieux\n",
      "12 City Name: Bluff\n",
      "13 City Name: Te Anau\n",
      "14 City Name: Mocuba\n",
      "15 City Name: Upernavik\n",
      "16 City Name: Rikitea\n",
      "17 City Name: Sur\n",
      "18 City Name: Butaritari\n",
      "19 City Name: Port Alfred\n",
      "20 City Name: Bredasdorp\n",
      "21 City Name: Albany\n",
      "22 City Name: Sitka\n",
      "Missing Data for | mys shmidta\n",
      "23 City Name: Tasiilaq\n",
      "24 City Name: Punta Arenas\n",
      "25 City Name: East London\n",
      "26 City Name: Hermanus\n",
      "27 City Name: Fort Nelson\n",
      "28 City Name: Pisco\n",
      "29 City Name: Norman Wells\n",
      "30 City Name: Bengkulu\n",
      "31 City Name: Kingston\n",
      "32 City Name: Sidi Ali\n",
      "33 City Name: Broken Hill\n",
      "34 City Name: Hambantota\n",
      "35 City Name: Arraial do Cabo\n",
      "36 City Name: Mehamn\n",
      "37 City Name: Sittwe\n",
      "38 City Name: Bullhead City\n",
      "39 City Name: Joensuu\n",
      "40 City Name: Anandnagar\n",
      "Missing Data for | mutsamudu\n",
      "41 City Name: Nampula\n",
      "Missing Data for | tidore\n",
      "42 City Name: Hilo\n",
      "43 City Name: Itarema\n",
      "44 City Name: Lüderitz\n",
      "45 City Name: Ushuaia\n",
      "46 City Name: Deputatsky\n",
      "47 City Name: Saint-Philippe\n",
      "48 City Name: Coyhaique\n",
      "49 City Name: Yellowknife\n",
      "50 City Name: Biak\n",
      "51 City Name: George Town\n",
      "52 City Name: Robāţ Karīm\n",
      "53 City Name: Huarmey\n",
      "54 City Name: Isla Vista\n",
      "55 City Name: Morehead\n",
      "56 City Name: Kabo\n",
      "57 City Name: New Norfolk\n",
      "58 City Name: Kuala Kangsar\n",
      "59 City Name: Dikson\n",
      "60 City Name: Kaduqli\n",
      "61 City Name: Hobart\n",
      "62 City Name: Kapaa\n",
      "Missing Data for | taolanaro\n",
      "Missing Data for | sentyabrskiy\n",
      "63 City Name: Palmer\n",
      "64 City Name: Taltal\n",
      "65 City Name: Dunedin\n",
      "66 City Name: Jamestown\n",
      "67 City Name: Port Elizabeth\n",
      "68 City Name: Faanui\n",
      "69 City Name: Rong Kwang\n",
      "70 City Name: Havøysund\n",
      "71 City Name: San Andrés\n",
      "72 City Name: Kidal\n",
      "73 City Name: Nishihara\n",
      "Missing Data for | illoqqortoormiut\n",
      "74 City Name: Cayenne\n",
      "Missing Data for | amderma\n",
      "75 City Name: Kadoma\n",
      "76 City Name: Ahipara\n",
      "77 City Name: Oudtshoorn\n",
      "78 City Name: Saint Paul Harbor\n",
      "79 City Name: Yārāda\n",
      "80 City Name: Lábrea\n",
      "81 City Name: Vila Velha\n",
      "82 City Name: Nikolskoye\n",
      "83 City Name: Hong Kong\n",
      "84 City Name: Tynda\n",
      "85 City Name: Khatanga\n",
      "86 City Name: Longyearbyen\n",
      "87 City Name: Provideniya\n",
      "88 City Name: Cape Town\n",
      "Missing Data for | tsihombe\n",
      "89 City Name: Aklavik\n",
      "90 City Name: Bulawayo\n",
      "91 City Name: São José da Coroa Grande\n",
      "92 City Name: Verkhnyaya Inta\n",
      "93 City Name: Los Llanos de Aridane\n",
      "94 City Name: Castro\n",
      "95 City Name: Puerto Ayora\n",
      "96 City Name: Cidreira\n",
      "97 City Name: Kaeo\n",
      "98 City Name: Makakilo City\n",
      "99 City Name: Mar del Plata\n",
      "100 City Name: Codrington\n",
      "Missing Data for | attawapiskat\n",
      "101 City Name: Hamilton\n",
      "102 City Name: Hobyo\n",
      "103 City Name: Saint-Augustin\n",
      "104 City Name: Torbay\n",
      "105 City Name: Zyryanka\n",
      "106 City Name: Isangel\n",
      "107 City Name: Ponta do Sol\n",
      "108 City Name: Nyandoma\n",
      "Missing Data for | mullaitivu\n",
      "109 City Name: Pevek\n",
      "110 City Name: Bathsheba\n",
      "111 City Name: Hofgeismar\n",
      "112 City Name: Belaya Gora\n",
      "113 City Name: Westport\n",
      "114 City Name: Saint George\n",
      "115 City Name: Prabumulih\n",
      "116 City Name: Saint Anthony\n",
      "117 City Name: Khani\n",
      "118 City Name: Ekhabi\n",
      "119 City Name: Qaqortoq\n",
      "120 City Name: Baiyin\n",
      "121 City Name: Skjervøy\n",
      "122 City Name: Chilliwack\n",
      "123 City Name: Kot Addu\n",
      "124 City Name: Nanortalik\n",
      "125 City Name: Ancud\n",
      "126 City Name: Lüshunkou\n",
      "127 City Name: Córdoba\n",
      "128 City Name: Lufilufi\n",
      "129 City Name: Cherskiy\n",
      "130 City Name: Woodland\n",
      "131 City Name: Arrondissement de Saint-Denis\n",
      "132 City Name: Zhigansk\n",
      "133 City Name: Faya\n",
      "134 City Name: Linfen\n",
      "135 City Name: Nur\n",
      "136 City Name: Chokurdakh\n",
      "137 City Name: Ugoofaaru\n",
      "138 City Name: Barrow\n",
      "139 City Name: Gurupá\n",
      "140 City Name: Souillac\n",
      "141 City Name: Burē\n",
      "142 City Name: Nieuwpoort\n",
      "Missing Data for | belushya guba\n",
      "143 City Name: Kilindoni\n",
      "144 City Name: Portland\n",
      "145 City Name: Lerwick\n",
      "146 City Name: Atar\n",
      "147 City Name: Santa Fe\n",
      "148 City Name: Edgewater\n",
      "149 City Name: Ginir\n",
      "150 City Name: Alice Springs\n",
      "151 City Name: Alice Town\n",
      "152 City Name: Port Hueneme\n",
      "153 City Name: Ossora\n",
      "154 City Name: Vestmannaeyjar\n",
      "155 City Name: Mizdah\n",
      "156 City Name: Airai\n",
      "157 City Name: Nome\n",
      "Missing Data for | utiroa\n",
      "158 City Name: Dhadar\n",
      "159 City Name: Beloha\n",
      "Missing Data for | bacuit\n",
      "160 City Name: Port Hardy\n",
      "161 City Name: Fortuna\n",
      "162 City Name: Bethel\n",
      "163 City Name: Valparaíso\n",
      "Missing Data for | samusu\n",
      "Missing Data for | sorvag\n",
      "164 City Name: Lavrentiya\n",
      "165 City Name: Moree\n",
      "166 City Name: Laguna\n",
      "Missing Data for | chagda\n",
      "167 City Name: Mugur-Aksy\n",
      "168 City Name: Qaanaaq\n",
      "169 City Name: Cairns\n",
      "170 City Name: Tsimmerbude\n",
      "171 City Name: Iqaluit\n",
      "Missing Data for | barentsburg\n",
      "172 City Name: Rumoi\n",
      "173 City Name: Arrondissement d'Arcachon\n",
      "174 City Name: Buala\n",
      "175 City Name: Thompson\n",
      "176 City Name: Archidona\n",
      "177 City Name: Lebu\n",
      "Missing Data for | grande-riviere\n",
      "178 City Name: Cabo San Lucas\n",
      "179 City Name: Avera\n",
      "Missing Data for | saleaula\n",
      "180 City Name: Kendari\n",
      "181 City Name: Carnarvon\n",
      "182 City Name: Ostrovnoy\n",
      "183 City Name: Batagay-Alyta\n",
      "184 City Name: Otavi\n",
      "185 City Name: Awjilah\n",
      "186 City Name: Sémbé\n",
      "187 City Name: Sernur\n",
      "188 City Name: Asău\n",
      "189 City Name: Yumen\n",
      "190 City Name: San Patricio\n",
      "191 City Name: Bayanday\n",
      "192 City Name: Kununurra\n",
      "193 City Name: Mitsamiouli\n",
      "194 City Name: La Paz\n",
      "195 City Name: Kitimat\n",
      "196 City Name: Khovd\n",
      "197 City Name: Thunder Bay\n",
      "Missing Data for | burica\n",
      "198 City Name: Tamandaré\n",
      "199 City Name: Korla\n",
      "200 City Name: Westlock\n",
      "201 City Name: Leça da Palmeira\n",
      "202 City Name: Bilma\n",
      "203 City Name: Yaan\n",
      "204 City Name: Trelew\n",
      "205 City Name: Nemuro\n",
      "206 City Name: Lianran\n",
      "207 City Name: San Policarpo\n",
      "208 City Name: Izazi\n",
      "209 City Name: Montevideo\n",
      "210 City Name: Kutum\n",
      "211 City Name: Saskylakh\n",
      "212 City Name: Inhumas\n",
      "213 City Name: São Filipe\n",
      "214 City Name: Caucayá\n",
      "Missing Data for | kuche\n",
      "215 City Name: Sakakah\n",
      "216 City Name: Liverpool\n",
      "217 City Name: Tiksi\n",
      "218 City Name: Onguday\n",
      "219 City Name: Ketchikan\n",
      "220 City Name: Pospelikha\n",
      "221 City Name: Burnie\n",
      "222 City Name: Kavaratti\n",
      "223 City Name: Opuwo\n",
      "224 City Name: Beringovskiy\n",
      "225 City Name: Necochea\n",
      "226 City Name: Geraldton\n",
      "227 City Name: Nybro\n",
      "228 City Name: San Francisco\n",
      "229 City Name: Saldanha\n",
      "230 City Name: Linping\n",
      "Missing Data for | umzimvubu\n",
      "231 City Name: Katangli\n",
      "232 City Name: Ribeira Grande\n",
      "233 City Name: Horsham\n",
      "234 City Name: Jogindarnagar\n",
      "235 City Name: Broome\n",
      "236 City Name: Coxim\n",
      "237 City Name: Knysna\n",
      "238 City Name: Karlskoga\n",
      "239 City Name: Guangyuan\n",
      "240 City Name: Hasaki\n",
      "241 City Name: Erdenet\n",
      "242 City Name: Lompoc\n",
      "243 City Name: Visnes\n",
      "244 City Name: Pūrna\n",
      "245 City Name: Srednekolymsk\n",
      "246 City Name: Ereymentau\n",
      "247 City Name: Oranjemund\n",
      "248 City Name: Āsosa\n",
      "249 City Name: São Gabriel\n",
      "250 City Name: Redmond\n",
      "251 City Name: Aksu\n",
      "252 City Name: Hue\n",
      "253 City Name: Derbent\n",
      "254 City Name: Severodvinsk\n",
      "255 City Name: Sayyan\n",
      "256 City Name: Tharād\n",
      "257 City Name: Alvarães\n",
      "258 City Name: Sapa\n",
      "Missing Data for | bolungarvik\n",
      "259 City Name: Gubkinskiy\n",
      "260 City Name: Acajutla\n",
      "Missing Data for | kilmez\n",
      "261 City Name: Altayskoye\n",
      "262 City Name: Farafangana\n",
      "263 City Name: Morro Bay\n",
      "264 City Name: Furukawa\n",
      "265 City Name: Waingapu\n",
      "266 City Name: Esperance\n",
      "267 City Name: Midleton\n",
      "268 City Name: Talara\n",
      "269 City Name: Ürümqi\n",
      "270 City Name: Krasnoarmeysk\n",
      "271 City Name: Gobabis\n",
      "272 City Name: Poso\n",
      "273 City Name: Hithadhoo\n",
      "274 City Name: Sompeta\n",
      "275 City Name: Gimli\n",
      "276 City Name: Katsuura\n",
      "Missing Data for | tumannyy\n",
      "277 City Name: Udachny\n",
      "278 City Name: Stykkisholmur\n",
      "279 City Name: Clyde River\n",
      "280 City Name: Zavodskoy\n",
      "281 City Name: Contamana\n",
      "282 City Name: Haines Junction\n",
      "283 City Name: Ulaangom\n",
      "284 City Name: Gari\n",
      "285 City Name: Tsogni\n",
      "286 City Name: Talcahuano\n",
      "287 City Name: Timizart\n",
      "288 City Name: Wanning\n",
      "289 City Name: Coahuayana Viejo\n",
      "290 City Name: Iquique\n",
      "291 City Name: Neubrandenburg\n",
      "292 City Name: Saint-Pierre\n",
      "293 City Name: Coquimbo\n",
      "294 City Name: Eenhana\n",
      "295 City Name: Les Cayes\n",
      "296 City Name: Port Macquarie\n",
      "297 City Name: Port Lincoln\n",
      "298 City Name: Ayna\n",
      "299 City Name: Laas\n",
      "300 City Name: Filingué\n",
      "301 City Name: Mazamet\n",
      "302 City Name: Guerrero Negro\n",
      "303 City Name: Huntington\n",
      "304 City Name: Quryq\n",
      "305 City Name: Mackay\n",
      "306 City Name: Karratha\n",
      "307 City Name: Kloulklubed\n",
      "308 City Name: Chui\n",
      "309 City Name: Santa Marta\n",
      "310 City Name: Tuktoyaktuk\n",
      "311 City Name: Port Blair\n",
      "312 City Name: Chengde\n",
      "313 City Name: Urubichá\n",
      "314 City Name: Ust'-Koksa\n",
      "315 City Name: Nouadhibou\n",
      "316 City Name: Burns Lake\n",
      "317 City Name: Khandyga\n",
      "318 City Name: Xichang\n",
      "319 City Name: Alyangula\n",
      "320 City Name: Sumbe\n",
      "321 City Name: Altay\n",
      "322 City Name: Bonthe\n",
      "323 City Name: Belmonte\n",
      "324 City Name: Astara\n",
      "325 City Name: Fougamou\n",
      "326 City Name: Dzhebariki-Khaya\n",
      "327 City Name: Kemisē\n",
      "328 City Name: Grand Gaube\n",
      "329 City Name: Mossamedes\n",
      "330 City Name: Salalah\n",
      "331 City Name: Nuuk\n",
      "Missing Data for | kamenskoye\n",
      "332 City Name: Alpena\n",
      "333 City Name: Kot Kapūra\n",
      "334 City Name: Bilibino\n",
      "335 City Name: Igrim\n",
      "Missing Data for | vaitupu\n",
      "336 City Name: Vostok\n",
      "337 City Name: Midland\n",
      "338 City Name: Barranco\n",
      "339 City Name: Simao\n",
      "340 City Name: Shizunai-furukawachō\n",
      "341 City Name: Saint-Joseph\n",
      "342 City Name: Richards Bay\n",
      "343 City Name: Northam\n",
      "344 City Name: Labuhan\n",
      "345 City Name: Benemérito de las Américas\n",
      "346 City Name: Dalvik\n",
      "347 City Name: Dhārchula\n",
      "348 City Name: Ixtapa\n",
      "349 City Name: Gizo Government Station\n",
      "350 City Name: Yasenskaya\n",
      "351 City Name: Joigny\n",
      "352 City Name: Kalnciems\n",
      "353 City Name: Boende\n",
      "354 City Name: Jijiga\n",
      "355 City Name: Liwale\n",
      "356 City Name: Itainópolis\n",
      "Missing Data for | zhanatas\n",
      "357 City Name: Klaeng\n",
      "358 City Name: Cabedelo\n",
      "359 City Name: Dezhou\n",
      "360 City Name: Rio Grande\n",
      "361 City Name: Sharlyk\n",
      "362 City Name: Aksarka\n",
      "Missing Data for | skalistyy\n",
      "363 City Name: Mānsa\n",
      "364 City Name: Baykit\n",
      "365 City Name: Llanes\n",
      "366 City Name: Marawi\n",
      "367 City Name: Fort Frances\n",
      "368 City Name: Churapcha\n",
      "369 City Name: Keti Bandar\n",
      "370 City Name: Ola\n",
      "371 City Name: Kamenka\n",
      "372 City Name: Progreso\n",
      "373 City Name: Oktyabr'skoye\n",
      "374 City Name: Paamiut\n",
      "375 City Name: Dhidhdhoo\n",
      "376 City Name: Storforshei\n",
      "377 City Name: Vaitape\n",
      "378 City Name: Vallenar\n",
      "379 City Name: Wukari\n",
      "380 City Name: Mahébourg\n",
      "381 City Name: La Ronge\n",
      "382 City Name: Olivenza\n",
      "383 City Name: Thinadhoo\n",
      "384 City Name: Tuatapere\n",
      "385 City Name: North Platte\n",
      "386 City Name: Gachsaran\n",
      "387 City Name: Parabel'\n",
      "388 City Name: Miragoâne\n",
      "389 City Name: Barobo\n",
      "Missing Data for | karauzyak\n",
      "390 City Name: Banda Aceh\n",
      "391 City Name: Isabela\n",
      "392 City Name: Øksfjord\n",
      "Missing Data for | nizhneyansk\n",
      "393 City Name: Savannah Bight\n",
      "394 City Name: Amrāvati\n",
      "395 City Name: Amapá\n",
      "396 City Name: Pontianak\n",
      "397 City Name: Dalgopol\n",
      "398 City Name: Nanyuki\n",
      "399 City Name: Vradiyivka\n",
      "400 City Name: Puerto del Rosario\n",
      "401 City Name: Virden\n",
      "402 City Name: Mozarlândia\n",
      "403 City Name: Panguna\n",
      "404 City Name: Vila do Maio\n",
      "405 City Name: Kirkwall\n",
      "406 City Name: Uruçuí\n",
      "407 City Name: Iskateley\n",
      "408 City Name: Tabou\n",
      "409 City Name: Skawina\n",
      "410 City Name: Neiafu\n",
      "411 City Name: Biltine\n",
      "412 City Name: Pedasí\n",
      "413 City Name: Daphne\n",
      "414 City Name: Camopi\n",
      "415 City Name: Hoopstad\n",
      "416 City Name: Gravelbourg\n",
      "417 City Name: Ishigaki\n",
      "418 City Name: Tevaitoa\n",
      "Missing Data for | karaul\n",
      "419 City Name: Sioux Lookout\n",
      "420 City Name: Lorengau\n",
      "421 City Name: Cap-aux-Meules\n",
      "422 City Name: Gilgit\n",
      "423 City Name: Emerald\n",
      "424 City Name: Palu\n",
      "425 City Name: Sinnamary\n",
      "426 City Name: La Cruz\n",
      "427 City Name: Jaguarari\n",
      "428 City Name: Ila\n",
      "429 City Name: Banjar\n",
      "430 City Name: Homer\n",
      "Missing Data for | eskasem\n",
      "431 City Name: Noumea\n",
      "432 City Name: Ilulissat\n",
      "433 City Name: Peleduy\n",
      "434 City Name: Yarmouth\n",
      "435 City Name: Sawtell\n",
      "436 City Name: Russell\n",
      "437 City Name: Värnamo\n",
      "438 City Name: Kavieng\n",
      "439 City Name: Kasulu\n",
      "440 City Name: Bāglung\n",
      "441 City Name: Ordzhonīkīdze\n",
      "442 City Name: Marystown\n",
      "443 City Name: Auki\n",
      "444 City Name: Sibolga\n",
      "445 City Name: Kalininsk\n",
      "446 City Name: Namie\n",
      "447 City Name: Haapiti\n",
      "448 City Name: Walvis Bay\n",
      "449 City Name: Dingle\n",
      "450 City Name: San Angelo\n",
      "451 City Name: Orán\n",
      "452 City Name: Goya\n",
      "453 City Name: Yining\n",
      "454 City Name: Comodoro Rivadavia\n",
      "455 City Name: Byron Bay\n",
      "456 City Name: Nizhnyaya Maktama\n",
      "457 City Name: Antofagasta\n",
      "458 City Name: Gigmoto\n",
      "459 City Name: Kindu\n",
      "460 City Name: Luang Prabang\n",
      "461 City Name: Maţāy\n",
      "462 City Name: Soyo\n",
      "463 City Name: Kanye\n",
      "464 City Name: Zaragoza\n",
      "465 City Name: Nikolayevsk-on-Amur\n",
      "466 City Name: Tomatlán\n",
      "467 City Name: Strezhevoy\n",
      "468 City Name: San Ramon\n",
      "469 City Name: Kassiopi\n",
      "Missing Data for | lolua\n",
      "470 City Name: Carroll\n",
      "471 City Name: Chapais\n",
      "472 City Name: Horki\n",
      "473 City Name: Chutove\n",
      "474 City Name: Sisimiut\n",
      "475 City Name: Besskorbnaya\n",
      "476 City Name: Impfondo\n",
      "477 City Name: Athens\n",
      "478 City Name: Adrar\n",
      "479 City Name: Fes\n",
      "480 City Name: Grindavik\n",
      "481 City Name: Kieta\n",
      "482 City Name: Alofi\n",
      "483 City Name: Kupang\n",
      "484 City Name: Port Hawkesbury\n",
      "485 City Name: Lagos\n",
      "486 City Name: Great Yarmouth\n",
      "487 City Name: Wum\n",
      "488 City Name: Sarāhan\n",
      "489 City Name: Puerto Nariño\n",
      "490 City Name: Yankton\n",
      "491 City Name: Kudahuvadhoo\n",
      "Missing Data for | qandahar\n",
      "492 City Name: Poum\n",
      "493 City Name: Beverley\n",
      "494 City Name: Ambilobe\n",
      "Missing Data for | hihifo\n",
      "495 City Name: Departamento de Maldonado\n",
      "496 City Name: Boyabat\n",
      "497 City Name: Kahului\n",
      "498 City Name: Quatre Cocos\n",
      "Missing Data for | sataua\n",
      "499 City Name: Henties Bay\n",
      "500 City Name: Najrān\n",
      "501 City Name: Lagoa\n",
      "502 City Name: Nālūt\n",
      "503 City Name: Mount Isa\n",
      "504 City Name: Maningrida\n",
      "505 City Name: Yulara\n",
      "506 City Name: Kon Tum\n",
      "507 City Name: Tikhvin\n",
      "508 City Name: Calama\n",
      "509 City Name: Adré\n",
      "Missing Data for | yomitan\n",
      "510 City Name: Cusset\n",
      "Missing Data for | halalo\n",
      "511 City Name: Mūl\n",
      "Missing Data for | palabuhanratu\n",
      "512 City Name: San Vicente\n",
      "Missing Data for | marcona\n",
      "513 City Name: Ørje\n",
      "514 City Name: Gumdag\n",
      "515 City Name: Cocobeach\n",
      "516 City Name: Woodward\n",
      "517 City Name: Hesla\n",
      "Missing Data for | haibowan\n",
      "518 City Name: Aldama\n",
      "519 City Name: Tiarei\n",
      "520 City Name: Mahon\n",
      "521 City Name: Cockburn Town\n",
      "522 City Name: Lishui\n",
      "523 City Name: Samarai\n",
      "524 City Name: Rhodes\n",
      "Missing Data for | safwah\n",
      "525 City Name: Olinda\n",
      "526 City Name: Mount Gambier\n",
      "527 City Name: Virginia Beach\n",
      "528 City Name: Roald\n",
      "529 City Name: Ponta Delgada\n",
      "530 City Name: Aswān\n",
      "531 City Name: Maturin\n",
      "Missing Data for | sinkat\n",
      "532 City Name: Millinocket\n",
      "533 City Name: Harindānga\n",
      "534 City Name: Olafsvik\n",
      "535 City Name: Ankara\n",
      "536 City Name: Launceston\n",
      "537 City Name: Flinders\n",
      "538 City Name: Preobrazheniye\n",
      "539 City Name: Severo-Kuril'sk\n",
      "540 City Name: Abhā\n",
      "541 City Name: Zeya\n",
      "542 City Name: Sabha\n",
      "543 City Name: Mercedes\n",
      "544 City Name: Santa María del Oro\n",
      "545 City Name: Port Augusta\n",
      "546 City Name: Almeirim\n",
      "547 City Name: Lubumbashi\n",
      "548 City Name: Saint-Louis\n",
      "549 City Name: Pemangkat\n",
      "550 City Name: Mogadishu\n",
      "551 City Name: Champerico\n",
      "552 City Name: Traverse City\n",
      "553 City Name: Port-Cartier\n",
      "554 City Name: Lucea\n",
      "555 City Name: Hualmay\n",
      "556 City Name: Kyabé\n",
      "557 City Name: Fukuechō\n",
      "Missing Data for | grand river south east\n",
      "558 City Name: San Cristobal\n",
      "559 City Name: Manicoré\n",
      "560 City Name: Merauke\n",
      "561 City Name: Flin Flon\n",
      "562 City Name: Mahon\n",
      "563 City Name: Pangnirtung\n",
      "564 City Name: Nzérékoré\n",
      "565 City Name: Colares\n",
      "566 City Name: Mayo\n",
      "Missing Data for | ngukurr\n",
      "567 City Name: Gladstone\n",
      "568 City Name: Kawalu\n",
      "569 City Name: Tiznit Province\n",
      "Missing Data for | louisbourg\n",
      "570 City Name: Samashki\n",
      "571 City Name: Brae\n",
      "572 City Name: Mabaruma\n",
      "573 City Name: Klaksvík\n",
      "574 City Name: Zahir Pir\n",
      "575 City Name: Berlevåg\n",
      "576 City Name: Honiara\n",
      "577 City Name: College\n",
      "578 City Name: Maryville\n",
      "579 City Name: Harda\n",
      "580 City Name: Pangkalanbuun\n",
      "581 City Name: Pimentel\n",
      "582 City Name: Pingzhuang\n",
      "583 City Name: Aizkraukle\n",
      "584 City Name: Omboué\n",
      "Missing Data for | masjed-e soleyman\n",
      "585 City Name: Ceres\n",
      "586 City Name: Mariestad\n",
      "587 City Name: Wairoa\n",
      "588 City Name: Ampanihy\n",
      "589 City Name: Manakara\n",
      "590 City Name: Mitú\n",
      "591 City Name: Aripuanã\n",
      "592 City Name: Hemnesberget\n"
     ]
    }
   ],
   "source": [
    "city_weather = []\n",
    "counter = 0\n",
    "for city in cities:\n",
    "    response = requests.get(query_url + city).json()\n",
    "    try:\n",
    "        weather = {\"City\": response['name'], \"Lat\": response['coord']['lat'], \"Lng\": response['coord']['lon'], \"Max Temp\": response['main']['temp_max'], \"Humidity\": response['main']['humidity'], \"Cloudiness\": response['clouds']['all'], \"Wind Speed\": response['wind']['speed'], \"Country\": response['sys']['country'], \"Date\": response['dt']}\n",
    "        city_weather.append(weather)\n",
    "        counter = counter + 1\n",
    "        print(f\"{counter} City Name: {response['name']}\")\n",
    "              \n",
    "    except:\n",
    "        print(\"Missing Data for | \" + city)"
   ]
  },
  {
   "cell_type": "markdown",
   "metadata": {},
   "source": [
    "### Convert Raw Data to DataFrame\n",
    "* Export the city data into a .csv.\n",
    "* Display the DataFrame"
   ]
  },
  {
   "cell_type": "code",
   "execution_count": 8,
   "metadata": {},
   "outputs": [
    {
     "data": {
      "text/html": [
       "<div>\n",
       "<style scoped>\n",
       "    .dataframe tbody tr th:only-of-type {\n",
       "        vertical-align: middle;\n",
       "    }\n",
       "\n",
       "    .dataframe tbody tr th {\n",
       "        vertical-align: top;\n",
       "    }\n",
       "\n",
       "    .dataframe thead th {\n",
       "        text-align: right;\n",
       "    }\n",
       "</style>\n",
       "<table border=\"1\" class=\"dataframe\">\n",
       "  <thead>\n",
       "    <tr style=\"text-align: right;\">\n",
       "      <th></th>\n",
       "      <th>City</th>\n",
       "      <th>Lat</th>\n",
       "      <th>Lng</th>\n",
       "      <th>Max Temp</th>\n",
       "      <th>Humidity</th>\n",
       "      <th>Cloudiness</th>\n",
       "      <th>Wind Speed</th>\n",
       "      <th>Country</th>\n",
       "      <th>Date</th>\n",
       "    </tr>\n",
       "  </thead>\n",
       "  <tbody>\n",
       "    <tr>\n",
       "      <th>0</th>\n",
       "      <td>Atuona</td>\n",
       "      <td>-9.80</td>\n",
       "      <td>-139.03</td>\n",
       "      <td>78.58</td>\n",
       "      <td>75</td>\n",
       "      <td>0</td>\n",
       "      <td>20.20</td>\n",
       "      <td>PF</td>\n",
       "      <td>1595531996</td>\n",
       "    </tr>\n",
       "    <tr>\n",
       "      <th>1</th>\n",
       "      <td>Naze</td>\n",
       "      <td>28.37</td>\n",
       "      <td>129.48</td>\n",
       "      <td>82.40</td>\n",
       "      <td>88</td>\n",
       "      <td>40</td>\n",
       "      <td>8.05</td>\n",
       "      <td>JP</td>\n",
       "      <td>1595531996</td>\n",
       "    </tr>\n",
       "    <tr>\n",
       "      <th>2</th>\n",
       "      <td>Black River</td>\n",
       "      <td>18.03</td>\n",
       "      <td>-77.85</td>\n",
       "      <td>87.01</td>\n",
       "      <td>74</td>\n",
       "      <td>75</td>\n",
       "      <td>6.93</td>\n",
       "      <td>JM</td>\n",
       "      <td>1595531996</td>\n",
       "    </tr>\n",
       "    <tr>\n",
       "      <th>3</th>\n",
       "      <td>Mataura</td>\n",
       "      <td>-46.19</td>\n",
       "      <td>168.86</td>\n",
       "      <td>39.00</td>\n",
       "      <td>83</td>\n",
       "      <td>100</td>\n",
       "      <td>3.00</td>\n",
       "      <td>NZ</td>\n",
       "      <td>1595531997</td>\n",
       "    </tr>\n",
       "    <tr>\n",
       "      <th>4</th>\n",
       "      <td>Asilah</td>\n",
       "      <td>35.47</td>\n",
       "      <td>-6.03</td>\n",
       "      <td>82.40</td>\n",
       "      <td>54</td>\n",
       "      <td>0</td>\n",
       "      <td>8.05</td>\n",
       "      <td>MA</td>\n",
       "      <td>1595531997</td>\n",
       "    </tr>\n",
       "  </tbody>\n",
       "</table>\n",
       "</div>"
      ],
      "text/plain": [
       "          City    Lat     Lng  Max Temp  Humidity  Cloudiness  Wind Speed  \\\n",
       "0       Atuona  -9.80 -139.03     78.58        75           0       20.20   \n",
       "1         Naze  28.37  129.48     82.40        88          40        8.05   \n",
       "2  Black River  18.03  -77.85     87.01        74          75        6.93   \n",
       "3      Mataura -46.19  168.86     39.00        83         100        3.00   \n",
       "4       Asilah  35.47   -6.03     82.40        54           0        8.05   \n",
       "\n",
       "  Country        Date  \n",
       "0      PF  1595531996  \n",
       "1      JP  1595531996  \n",
       "2      JM  1595531996  \n",
       "3      NZ  1595531997  \n",
       "4      MA  1595531997  "
      ]
     },
     "execution_count": 8,
     "metadata": {},
     "output_type": "execute_result"
    }
   ],
   "source": [
    "# Create Data Frame\n",
    "weather_df = pd.DataFrame(city_weather)\n",
    "weather_df.head()"
   ]
  },
  {
   "cell_type": "markdown",
   "metadata": {},
   "source": [
    "## Inspect the data and remove the cities where the humidity > 100%.\n",
    "----\n",
    "Skip this step if there are no cities that have humidity > 100%. "
   ]
  },
  {
   "cell_type": "code",
   "execution_count": 9,
   "metadata": {},
   "outputs": [
    {
     "data": {
      "text/html": [
       "<div>\n",
       "<style scoped>\n",
       "    .dataframe tbody tr th:only-of-type {\n",
       "        vertical-align: middle;\n",
       "    }\n",
       "\n",
       "    .dataframe tbody tr th {\n",
       "        vertical-align: top;\n",
       "    }\n",
       "\n",
       "    .dataframe thead th {\n",
       "        text-align: right;\n",
       "    }\n",
       "</style>\n",
       "<table border=\"1\" class=\"dataframe\">\n",
       "  <thead>\n",
       "    <tr style=\"text-align: right;\">\n",
       "      <th></th>\n",
       "      <th>City</th>\n",
       "      <th>Lat</th>\n",
       "      <th>Lng</th>\n",
       "      <th>Max Temp</th>\n",
       "      <th>Humidity</th>\n",
       "      <th>Cloudiness</th>\n",
       "      <th>Wind Speed</th>\n",
       "      <th>Country</th>\n",
       "      <th>Date</th>\n",
       "    </tr>\n",
       "  </thead>\n",
       "  <tbody>\n",
       "  </tbody>\n",
       "</table>\n",
       "</div>"
      ],
      "text/plain": [
       "Empty DataFrame\n",
       "Columns: [City, Lat, Lng, Max Temp, Humidity, Cloudiness, Wind Speed, Country, Date]\n",
       "Index: []"
      ]
     },
     "execution_count": 9,
     "metadata": {},
     "output_type": "execute_result"
    }
   ],
   "source": [
    "#Humidity Check\n",
    "humidity_check = weather_df.loc[weather_df['Humidity']>100]\n",
    "humidity_check"
   ]
  },
  {
   "cell_type": "code",
   "execution_count": 12,
   "metadata": {},
   "outputs": [],
   "source": [
    "# Export the City_Data into a csv\n",
    "#weather_df.to_csv(\"city_weath.csv\")\n"
   ]
  },
  {
   "cell_type": "markdown",
   "metadata": {},
   "source": [
    "## Plotting the Data\n",
    "* Use proper labeling of the plots using plot titles (including date of analysis) and axes labels.\n",
    "* Save the plotted figures as .pngs."
   ]
  },
  {
   "cell_type": "markdown",
   "metadata": {},
   "source": [
    "## Latitude vs. Temperature Plot"
   ]
  },
  {
   "cell_type": "code",
   "execution_count": 33,
   "metadata": {
    "scrolled": true
   },
   "outputs": [
    {
     "data": {
      "text/plain": [
       "Text(0.5, 1.0, 'City Latitude vs. Temperature (04/01/20)')"
      ]
     },
     "execution_count": 33,
     "metadata": {},
     "output_type": "execute_result"
    },
    {
     "data": {
      "image/png": "[encoded data removed]",
      "text/plain": [
       "<Figure size 432x288 with 1 Axes>"
      ]
     },
     "metadata": {
      "needs_background": "light"
     },
     "output_type": "display_data"
    }
   ],
   "source": [
    "x_axis_temp = weather_df['Lat']\n",
    "y_axis_temp = weather_df['Max Temp']\n",
    "plt.scatter(x_axis_temp, y_axis_temp);\n",
    "plt.xlabel(\"Latitude\")\n",
    "plt.ylabel(\"Temperature\")\n",
    "plt.title(\"City Latitude vs. Temperature (04/01/20)\", color=\"black\")\n"
   ]
  },
  {
   "cell_type": "markdown",
   "metadata": {},
   "source": [
    "## Latitude vs. Humidity Plot"
   ]
  },
  {
   "cell_type": "code",
   "execution_count": 32,
   "metadata": {},
   "outputs": [
    {
     "data": {
      "text/plain": [
       "Text(0.5, 1.0, 'City Latitude vs. Humidity (04/01/20)')"
      ]
     },
     "execution_count": 32,
     "metadata": {},
     "output_type": "execute_result"
    },
    {
     "data": {
      "image/png": "[encoded data removed]",
      "text/plain": [
       "<Figure size 432x288 with 1 Axes>"
      ]
     },
     "metadata": {
      "needs_background": "light"
     },
     "output_type": "display_data"
    }
   ],
   "source": [
    "x_axis_hum = weather_df['Lat']\n",
    "y_axis_hum = weather_df['Humidity']\n",
    "plt.scatter(x_axis_hum, y_axis_hum);\n",
    "plt.xlabel(\"Latitude\")\n",
    "plt.ylabel(\"Humidity (%)\")\n",
    "plt.grid(color=\"black\")\n",
    "plt.title(\"City Latitude vs. Humidity (04/01/20)\", color=\"black\")"
   ]
  },
  {
   "cell_type": "markdown",
   "metadata": {},
   "source": [
    "## Latitude vs. Cloudiness Plot"
   ]
  },
  {
   "cell_type": "code",
   "execution_count": 31,
   "metadata": {},
   "outputs": [
    {
     "data": {
      "text/plain": [
       "Text(0.5, 1.0, 'City Latitude vs. Cloudiness (04/01/20)')"
      ]
     },
     "execution_count": 31,
     "metadata": {},
     "output_type": "execute_result"
    },
    {
     "data": {
      "image/png": "[encoded data removed]",
      "text/plain": [
       "<Figure size 432x288 with 1 Axes>"
      ]
     },
     "metadata": {
      "needs_background": "light"
     },
     "output_type": "display_data"
    }
   ],
   "source": [
    "x_axis_cloud = weather_df['Lat']\n",
    "y_axis_cloud = weather_df['Cloudiness']\n",
    "plt.scatter(x_axis_cloud, y_axis_cloud)\n",
    "plt.xlabel(\"Latitude\")\n",
    "plt.ylabel(\"Cloudiness (%)\")\n",
    "plt.grid(color=\"grey\")\n",
    "plt.title(\"City Latitude vs. Cloudiness (04/01/20)\", color=\"black\")"
   ]
  },
  {
   "cell_type": "markdown",
   "metadata": {},
   "source": [
    "## Latitude vs. Wind Speed Plot"
   ]
  },
  {
   "cell_type": "code",
   "execution_count": 30,
   "metadata": {},
   "outputs": [
    {
     "data": {
      "text/plain": [
       "Text(0.5, 1.0, 'City Latitude vs. Wind Speed (04/01/20)')"
      ]
     },
     "execution_count": 30,
     "metadata": {},
     "output_type": "execute_result"
    },
    {
     "data": {
      "image/png": "[encoded data removed]",
      "text/plain": [
       "<Figure size 432x288 with 1 Axes>"
      ]
     },
     "metadata": {
      "needs_background": "light"
     },
     "output_type": "display_data"
    }
   ],
   "source": [
    "x_axis_wind = weather_df['Lat']\n",
    "y_axis_wind = weather_df['Wind Speed']\n",
    "plt.scatter(x_axis_wind, y_axis_wind)\n",
    "plt.xlabel(\"Latitude\")\n",
    "plt.ylabel(\"Wind Speed (mph)\")\n",
    "plt.grid(color=\"grey\")\n",
    "plt.title(\"City Latitude vs. Wind Speed (04/01/20)\", color=\"black\")"
   ]
  },
  {
   "cell_type": "markdown",
   "metadata": {},
   "source": [
    "## Linear Regression"
   ]
  },
  {
   "cell_type": "code",
   "execution_count": 14,
   "metadata": {},
   "outputs": [],
   "source": [
    "# OPTIONAL: Create a function to create Linear Regression plots"
   ]
  },
  {
   "cell_type": "code",
   "execution_count": 40,
   "metadata": {},
   "outputs": [
    {
     "data": {
      "text/html": [
       "<div>\n",
       "<style scoped>\n",
       "    .dataframe tbody tr th:only-of-type {\n",
       "        vertical-align: middle;\n",
       "    }\n",
       "\n",
       "    .dataframe tbody tr th {\n",
       "        vertical-align: top;\n",
       "    }\n",
       "\n",
       "    .dataframe thead th {\n",
       "        text-align: right;\n",
       "    }\n",
       "</style>\n",
       "<table border=\"1\" class=\"dataframe\">\n",
       "  <thead>\n",
       "    <tr style=\"text-align: right;\">\n",
       "      <th></th>\n",
       "      <th>City</th>\n",
       "      <th>Lat</th>\n",
       "      <th>Lng</th>\n",
       "      <th>Max Temp</th>\n",
       "      <th>Humidity</th>\n",
       "      <th>Cloudiness</th>\n",
       "      <th>Wind Speed</th>\n",
       "      <th>Country</th>\n",
       "      <th>Date</th>\n",
       "    </tr>\n",
       "  </thead>\n",
       "  <tbody>\n",
       "    <tr>\n",
       "      <th>0</th>\n",
       "      <td>Atuona</td>\n",
       "      <td>-9.80</td>\n",
       "      <td>-139.03</td>\n",
       "      <td>78.58</td>\n",
       "      <td>75</td>\n",
       "      <td>0</td>\n",
       "      <td>20.20</td>\n",
       "      <td>PF</td>\n",
       "      <td>1595531996</td>\n",
       "    </tr>\n",
       "    <tr>\n",
       "      <th>3</th>\n",
       "      <td>Mataura</td>\n",
       "      <td>-46.19</td>\n",
       "      <td>168.86</td>\n",
       "      <td>39.00</td>\n",
       "      <td>83</td>\n",
       "      <td>100</td>\n",
       "      <td>3.00</td>\n",
       "      <td>NZ</td>\n",
       "      <td>1595531997</td>\n",
       "    </tr>\n",
       "    <tr>\n",
       "      <th>5</th>\n",
       "      <td>Kaitangata</td>\n",
       "      <td>-46.28</td>\n",
       "      <td>169.85</td>\n",
       "      <td>39.00</td>\n",
       "      <td>73</td>\n",
       "      <td>91</td>\n",
       "      <td>5.01</td>\n",
       "      <td>NZ</td>\n",
       "      <td>1595531997</td>\n",
       "    </tr>\n",
       "    <tr>\n",
       "      <th>6</th>\n",
       "      <td>Vaini</td>\n",
       "      <td>-21.20</td>\n",
       "      <td>-175.20</td>\n",
       "      <td>68.00</td>\n",
       "      <td>100</td>\n",
       "      <td>75</td>\n",
       "      <td>3.36</td>\n",
       "      <td>TO</td>\n",
       "      <td>1595531964</td>\n",
       "    </tr>\n",
       "    <tr>\n",
       "      <th>7</th>\n",
       "      <td>Busselton</td>\n",
       "      <td>-33.65</td>\n",
       "      <td>115.33</td>\n",
       "      <td>45.00</td>\n",
       "      <td>74</td>\n",
       "      <td>0</td>\n",
       "      <td>3.65</td>\n",
       "      <td>AU</td>\n",
       "      <td>1595531998</td>\n",
       "    </tr>\n",
       "  </tbody>\n",
       "</table>\n",
       "</div>"
      ],
      "text/plain": [
       "         City    Lat     Lng  Max Temp  Humidity  Cloudiness  Wind Speed  \\\n",
       "0      Atuona  -9.80 -139.03     78.58        75           0       20.20   \n",
       "3     Mataura -46.19  168.86     39.00        83         100        3.00   \n",
       "5  Kaitangata -46.28  169.85     39.00        73          91        5.01   \n",
       "6       Vaini -21.20 -175.20     68.00       100          75        3.36   \n",
       "7   Busselton -33.65  115.33     45.00        74           0        3.65   \n",
       "\n",
       "  Country        Date  \n",
       "0      PF  1595531996  \n",
       "3      NZ  1595531997  \n",
       "5      NZ  1595531997  \n",
       "6      TO  1595531964  \n",
       "7      AU  1595531998  "
      ]
     },
     "execution_count": 40,
     "metadata": {},
     "output_type": "execute_result"
    }
   ],
   "source": [
    "# Create Northern and Southern Hemisphere DataFrames\n",
    "northern = pd.DataFrame(weather_df.loc[weather_df['Lat']>=0])\n",
    "southern = pd.DataFrame(weather_df.loc[weather_df['Lat']<0])\n",
    "\n",
    "#Checks to make sure DF reads properly\n",
    "southern.head()"
   ]
  },
  {
   "cell_type": "markdown",
   "metadata": {},
   "source": [
    "####  Northern Hemisphere - Max Temp vs. Latitude Linear Regression"
   ]
  },
  {
   "cell_type": "code",
   "execution_count": 53,
   "metadata": {},
   "outputs": [
    {
     "data": {
      "image/png": "[encoded data removed]",
      "text/plain": [
       "<Figure size 432x288 with 1 Axes>"
      ]
     },
     "metadata": {
      "needs_background": "light"
     },
     "output_type": "display_data"
    },
    {
     "name": "stdout",
     "output_type": "stream",
     "text": [
      "The line equation is y = -0.47x + 89.9\n",
      "The r value is -0.6739612943198355\n"
     ]
    }
   ],
   "source": [
    "x_axis_nor_temp = northern['Lat']\n",
    "y_axis_nor_temp = northern['Max Temp']\n",
    "(slope, intercept, rvalue, pvalue, stderr) = linregress(x_axis_nor_temp, y_axis_nor_temp)\n",
    "regress_values_nor_temp = x_axis_nor_temp * slope + intercept\n",
    "line_eq = \"y = \" + str(round(slope,2)) + \"x + \" + str(round(intercept,2))\n",
    "plt.scatter(x_axis_nor_temp, y_axis_nor_temp)\n",
    "plt.plot(x_axis_nor_temp,regress_values_nor_temp,\"r-\")\n",
    "plt.annotate(line_eq, (6,10), fontsize=15, color=\"red\")\n",
    "plt.xlabel(\"Latitude\")\n",
    "plt.ylabel(\"Max Temp\")\n",
    "plt.show()\n",
    "print(\"The line equation is \" + str(line_eq))\n",
    "print(\"The r value is \" + str(rvalue))\n"
   ]
  },
  {
   "cell_type": "markdown",
   "metadata": {},
   "source": [
    "####  Southern Hemisphere - Max Temp vs. Latitude Linear Regression"
   ]
  },
  {
   "cell_type": "code",
   "execution_count": 58,
   "metadata": {},
   "outputs": [
    {
     "data": {
      "image/png": "[encoded data removed]",
      "text/plain": [
       "<Figure size 432x288 with 1 Axes>"
      ]
     },
     "metadata": {
      "needs_background": "light"
     },
     "output_type": "display_data"
    },
    {
     "name": "stdout",
     "output_type": "stream",
     "text": [
      "The line equation is y = 0.91x + 83.85\n",
      "The r value is 0.7899871254518166\n"
     ]
    }
   ],
   "source": [
    "x_axis_south_temp = southern['Lat']\n",
    "y_axis_south_temp = southern['Max Temp']\n",
    "(slope, intercept, rvalue, pvalue, stderr) = linregress(x_axis_south_temp, y_axis_south_temp)\n",
    "regress_values_south_temp = x_axis_south_temp * slope + intercept\n",
    "line_eq_a = \"y = \" + str(round(slope,2)) + \"x + \" + str(round(intercept,2))\n",
    "plt.scatter(x_axis_south_temp, y_axis_south_temp)\n",
    "plt.plot(x_axis_south_temp,regress_values_south_temp,\"r-\")\n",
    "plt.annotate(line_eq_a, (6,10), fontsize=15, color=\"red\")\n",
    "plt.xlabel(\"Latitude\")\n",
    "plt.ylabel(\"Max Temp\")\n",
    "plt.show()\n",
    "print(\"The line equation is \" + str(line_eq_a))\n",
    "print(\"The r value is \" + str(rvalue))\n"
   ]
  },
  {
   "cell_type": "markdown",
   "metadata": {},
   "source": [
    "####  Northern Hemisphere - Humidity (%) vs. Latitude Linear Regression"
   ]
  },
  {
   "cell_type": "code",
   "execution_count": 60,
   "metadata": {},
   "outputs": [
    {
     "data": {
      "image/png": "[encoded data removed]",
      "text/plain": [
       "<Figure size 432x288 with 1 Axes>"
      ]
     },
     "metadata": {
      "needs_background": "light"
     },
     "output_type": "display_data"
    },
    {
     "name": "stdout",
     "output_type": "stream",
     "text": [
      "The line equation is y = 0.02x + 69.45\n",
      "The r value is 0.014824735166277496\n"
     ]
    }
   ],
   "source": [
    "x_axis_nor_hum = northern['Lat']\n",
    "y_axis_nor_hum = northern['Humidity']\n",
    "(slope, intercept, rvalue, pvalue, stderr) = linregress(x_axis_nor_hum, y_axis_nor_hum)\n",
    "regress_values_nor_hum = x_axis_nor_hum * slope + intercept\n",
    "line_eq_b = \"y = \" + str(round(slope,2)) + \"x + \" + str(round(intercept,2))\n",
    "plt.scatter(x_axis_nor_hum, y_axis_nor_hum)\n",
    "plt.plot(x_axis_nor_hum,regress_values_nor_hum,\"r-\")\n",
    "plt.annotate(line_eq_b, (6,10), fontsize=15, color=\"red\")\n",
    "plt.xlabel(\"Latitude\")\n",
    "plt.ylabel(\"Humidity (%)\")\n",
    "plt.show()\n",
    "print(\"The line equation is \" + str(line_eq_b))\n",
    "print(\"The r value is \" + str(rvalue))"
   ]
  },
  {
   "cell_type": "markdown",
   "metadata": {},
   "source": [
    "####  Southern Hemisphere - Humidity (%) vs. Latitude Linear Regression"
   ]
  },
  {
   "cell_type": "code",
   "execution_count": 61,
   "metadata": {},
   "outputs": [
    {
     "data": {
      "image/png": "[encoded data removed]",
      "text/plain": [
       "<Figure size 432x288 with 1 Axes>"
      ]
     },
     "metadata": {
      "needs_background": "light"
     },
     "output_type": "display_data"
    },
    {
     "name": "stdout",
     "output_type": "stream",
     "text": [
      "The line equation is y = -0.2x + 65.1\n",
      "The r value is -0.12179233280506747\n"
     ]
    }
   ],
   "source": [
    "x_axis_south_hum = southern['Lat']\n",
    "y_axis_south_hum = southern['Humidity']\n",
    "(slope, intercept, rvalue, pvalue, stderr) = linregress(x_axis_south_hum, y_axis_south_hum)\n",
    "regress_values_south_hum = x_axis_south_hum * slope + intercept\n",
    "line_eq_c = \"y = \" + str(round(slope,2)) + \"x + \" + str(round(intercept,2))\n",
    "plt.scatter(x_axis_south_hum, y_axis_south_hum)\n",
    "plt.plot(x_axis_south_hum,regress_values_south_hum,\"r-\")\n",
    "plt.annotate(line_eq_c, (6,10), fontsize=15, color=\"red\")\n",
    "plt.xlabel(\"Latitude\")\n",
    "plt.ylabel(\"Humidity (%)\")\n",
    "plt.show()\n",
    "print(\"The line equation is \" + str(line_eq_c))\n",
    "print(\"The r value is \" + str(rvalue))\n"
   ]
  },
  {
   "cell_type": "markdown",
   "metadata": {},
   "source": [
    "####  Northern Hemisphere - Cloudiness (%) vs. Latitude Linear Regression"
   ]
  },
  {
   "cell_type": "code",
   "execution_count": 62,
   "metadata": {},
   "outputs": [
    {
     "data": {
      "image/png": "[encoded data removed]",
      "text/plain": [
       "<Figure size 432x288 with 1 Axes>"
      ]
     },
     "metadata": {
      "needs_background": "light"
     },
     "output_type": "display_data"
    },
    {
     "name": "stdout",
     "output_type": "stream",
     "text": [
      "The line equation is y = -0.13x + 59.75\n",
      "The r value is -0.06607801735678646\n"
     ]
    }
   ],
   "source": [
    "x_axis_nor_cloud = northern['Lat']\n",
    "y_axis_nor_cloud = northern['Cloudiness']\n",
    "(slope, intercept, rvalue, pvalue, stderr) = linregress(x_axis_nor_cloud, y_axis_nor_cloud)\n",
    "regress_values_nor_cloud = x_axis_nor_cloud * slope + intercept\n",
    "line_eq_d = \"y = \" + str(round(slope,2)) + \"x + \" + str(round(intercept,2))\n",
    "plt.scatter(x_axis_nor_cloud, y_axis_nor_cloud)\n",
    "plt.plot(x_axis_nor_cloud,regress_values_nor_cloud,\"r-\")\n",
    "plt.annotate(line_eq_d, (6,10), fontsize=15, color=\"red\")\n",
    "plt.xlabel(\"Latitude\")\n",
    "plt.ylabel(\"Cloudiness (%)\")\n",
    "plt.show()\n",
    "print(\"The line equation is \" + str(line_eq_d))\n",
    "print(\"The r value is \" + str(rvalue))"
   ]
  },
  {
   "cell_type": "markdown",
   "metadata": {},
   "source": [
    "####  Southern Hemisphere - Cloudiness (%) vs. Latitude Linear Regression"
   ]
  },
  {
   "cell_type": "code",
   "execution_count": 63,
   "metadata": {},
   "outputs": [
    {
     "data": {
      "image/png": "[encoded data removed]",
      "text/plain": [
       "<Figure size 432x288 with 1 Axes>"
      ]
     },
     "metadata": {
      "needs_background": "light"
     },
     "output_type": "display_data"
    },
    {
     "name": "stdout",
     "output_type": "stream",
     "text": [
      "The line equation is y = -0.11x + 40.75\n",
      "The r value is -0.037681173131852985\n"
     ]
    }
   ],
   "source": [
    "x_axis_south_cloud = southern['Lat']\n",
    "y_axis_south_cloud = southern['Cloudiness']\n",
    "(slope, intercept, rvalue, pvalue, stderr) = linregress(x_axis_south_cloud, y_axis_south_cloud)\n",
    "regress_values_south_cloud = x_axis_south_cloud * slope + intercept\n",
    "line_eq_e = \"y = \" + str(round(slope,2)) + \"x + \" + str(round(intercept,2))\n",
    "plt.scatter(x_axis_south_cloud, y_axis_south_cloud)\n",
    "plt.plot(x_axis_south_cloud,regress_values_south_cloud,\"r-\")\n",
    "plt.annotate(line_eq_e, (6,10), fontsize=15, color=\"red\")\n",
    "plt.xlabel(\"Latitude\")\n",
    "plt.ylabel(\"Cloudiness (%)\")\n",
    "plt.show()\n",
    "print(\"The line equation is \" + str(line_eq_e))\n",
    "print(\"The r value is \" + str(rvalue))"
   ]
  },
  {
   "cell_type": "markdown",
   "metadata": {},
   "source": [
    "####  Northern Hemisphere - Wind Speed (mph) vs. Latitude Linear Regression"
   ]
  },
  {
   "cell_type": "code",
   "execution_count": 64,
   "metadata": {},
   "outputs": [
    {
     "data": {
      "image/png": "[encoded data removed]",
      "text/plain": [
       "<Figure size 432x288 with 1 Axes>"
      ]
     },
     "metadata": {
      "needs_background": "light"
     },
     "output_type": "display_data"
    },
    {
     "name": "stdout",
     "output_type": "stream",
     "text": [
      "The line equation is y = -0.01x + 7.91\n",
      "The r value is -0.04214078477684808\n"
     ]
    }
   ],
   "source": [
    "x_axis_nor_wind = northern['Lat']\n",
    "y_axis_nor_wind = northern['Wind Speed']\n",
    "(slope, intercept, rvalue, pvalue, stderr) = linregress(x_axis_nor_wind, y_axis_nor_wind)\n",
    "regress_values_nor_wind = x_axis_nor_wind * slope + intercept\n",
    "line_eq_f = \"y = \" + str(round(slope,2)) + \"x + \" + str(round(intercept,2))\n",
    "plt.scatter(x_axis_nor_wind, y_axis_nor_wind)\n",
    "plt.plot(x_axis_nor_wind,regress_values_nor_wind,\"r-\")\n",
    "plt.annotate(line_eq_f, (6,10), fontsize=15, color=\"red\")\n",
    "plt.xlabel(\"Latitude\")\n",
    "plt.ylabel(\"Wind Speed (mph)\")\n",
    "plt.show()\n",
    "print(\"The line equation is \" + str(line_eq_f))\n",
    "print(\"The r value is \" + str(rvalue))"
   ]
  },
  {
   "cell_type": "markdown",
   "metadata": {},
   "source": [
    "####  Southern Hemisphere - Wind Speed (mph) vs. Latitude Linear Regression"
   ]
  },
  {
   "cell_type": "code",
   "execution_count": 65,
   "metadata": {},
   "outputs": [
    {
     "data": {
      "image/png": "[encoded data removed]",
      "text/plain": [
       "<Figure size 432x288 with 1 Axes>"
      ]
     },
     "metadata": {
      "needs_background": "light"
     },
     "output_type": "display_data"
    },
    {
     "name": "stdout",
     "output_type": "stream",
     "text": [
      "The line equation is y = 0.06x + 9.19\n",
      "The r value is 0.14988840739496426\n"
     ]
    }
   ],
   "source": [
    "x_axis_south_wind = southern['Lat']\n",
    "y_axis_south_wind = southern['Wind Speed']\n",
    "(slope, intercept, rvalue, pvalue, stderr) = linregress(x_axis_south_wind, y_axis_south_wind)\n",
    "regress_values_south_wind = x_axis_south_wind * slope + intercept\n",
    "line_eq_g = \"y = \" + str(round(slope,2)) + \"x + \" + str(round(intercept,2))\n",
    "plt.scatter(x_axis_south_wind, y_axis_south_wind)\n",
    "plt.plot(x_axis_south_wind,regress_values_south_wind,\"r-\")\n",
    "plt.annotate(line_eq_g, (6,10), fontsize=15, color=\"red\")\n",
    "plt.xlabel(\"Latitude\")\n",
    "plt.ylabel(\"Wind Speed (mph)\")\n",
    "plt.show()\n",
    "print(\"The line equation is \" + str(line_eq_g))\n",
    "print(\"The r value is \" + str(rvalue))"
   ]
  },
  {
   "cell_type": "code",
   "execution_count": null,
   "metadata": {},
   "outputs": [],
   "source": []
  }
 ],
 "metadata": {
  "anaconda-cloud": {},
  "kernel_info": {
   "name": "python3"
  },
  "kernelspec": {
   "display_name": "Python 3",
   "language": "python",
   "name": "python3"
  },
  "language_info": {
   "codemirror_mode": {
    "name": "ipython",
    "version": 3
   },
   "file_extension": ".py",
   "mimetype": "text/x-python",
   "name": "python",
   "nbconvert_exporter": "python",
   "pygments_lexer": "ipython3",
   "version": "3.7.6"
  },
  "latex_envs": {
   "LaTeX_envs_menu_present": true,
   "autoclose": false,
   "autocomplete": true,
   "bibliofile": "biblio.bib",
   "cite_by": "apalike",
   "current_citInitial": 1,
   "eqLabelWithNumbers": true,
   "eqNumInitial": 1,
   "hotkeys": {
    "equation": "Ctrl-E",
    "itemize": "Ctrl-I"
   },
   "labels_anchors": false,
   "latex_user_defs": false,
   "report_style_numbering": false,
   "user_envs_cfg": false
  },
  "nteract": {
   "version": "0.12.3"
  }
 },
 "nbformat": 4,
 "nbformat_minor": 2
}
